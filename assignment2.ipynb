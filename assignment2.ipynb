{
 "cells": [
  {
   "cell_type": "markdown",
   "id": "350d344f-3be5-4e29-b210-0028b196c441",
   "metadata": {},
   "source": [
    "# load dataset"
   ]
  },
  {
   "cell_type": "code",
   "execution_count": null,
   "id": "eb29664d-d1c7-40b7-b67d-0af58da4c60c",
   "metadata": {},
   "outputs": [],
   "source": [
    "import pandas as pd\n",
    "uber_data=pd.read_csv(\"C:/Users/HP/Downloads/datasets-main/datasets-main/Uber_Drives_2016.csv\")\n",
    "uber_data.head()"
   ]
  },
  {
   "cell_type": "markdown",
   "id": "80400de3-ff27-4684-b5b0-dce35bacd66b",
   "metadata": {},
   "source": [
    "# Display rides where CATEGORY == 'Business'."
   ]
  },
  {
   "cell_type": "code",
   "execution_count": null,
   "id": "b3580dcc-ee35-459e-98ff-3f1fa31d9eb4",
   "metadata": {},
   "outputs": [],
   "source": [
    "rides = uber_data[uber_data['CATEGORY*'] == 'Business']\n",
    "rides"
   ]
  },
  {
   "cell_type": "markdown",
   "id": "309eaaea-cff0-4574-a8c5-402fe26f5ef0",
   "metadata": {},
   "source": [
    "# how top 5 rides with the longest distance (MILES)."
   ]
  },
  {
   "cell_type": "code",
   "execution_count": 12,
   "id": "cff758e8-35cb-4b4e-b42b-b9fb8192905a",
   "metadata": {},
   "outputs": [
    {
     "name": "stdout",
     "output_type": "stream",
     "text": [
      "           START_DATE*         END_DATE* CATEGORY*            START*  \\\n",
      "1155            Totals               NaN       NaN               NaN   \n",
      "269    3/25/2016 16:52   3/25/2016 22:22  Business             Latta   \n",
      "270    3/25/2016 22:54    3/26/2016 1:39  Business      Jacksonville   \n",
      "881   10/30/2016 15:22  10/30/2016 18:23  Business         Asheville   \n",
      "776    9/27/2016 21:01    9/28/2016 2:37  Business  Unknown Location   \n",
      "\n",
      "                 STOP*   MILES*        PURPOSE*  \n",
      "1155               NaN  12204.7             NaN  \n",
      "269       Jacksonville    310.3  Customer Visit  \n",
      "270          Kissimmee    201.0         Meeting  \n",
      "881             Mebane    195.9             NaN  \n",
      "776   Unknown Location    195.6             NaN  \n"
     ]
    }
   ],
   "source": [
    "top5_rides = uber_data.sort_values(by='MILES*', ascending=False).head(5)\n",
    "print(top5_rides)"
   ]
  },
  {
   "cell_type": "markdown",
   "id": "1c0a1788-fe47-4e4f-ad32-7e85a0640d13",
   "metadata": {},
   "source": [
    "# Sort trips by distance in descending order."
   ]
  },
  {
   "cell_type": "code",
   "execution_count": 14,
   "id": "636aae72-a0c8-4623-bed3-11c192f63141",
   "metadata": {},
   "outputs": [
    {
     "data": {
      "text/html": [
       "<div>\n",
       "<style scoped>\n",
       "    .dataframe tbody tr th:only-of-type {\n",
       "        vertical-align: middle;\n",
       "    }\n",
       "\n",
       "    .dataframe tbody tr th {\n",
       "        vertical-align: top;\n",
       "    }\n",
       "\n",
       "    .dataframe thead th {\n",
       "        text-align: right;\n",
       "    }\n",
       "</style>\n",
       "<table border=\"1\" class=\"dataframe\">\n",
       "  <thead>\n",
       "    <tr style=\"text-align: right;\">\n",
       "      <th></th>\n",
       "      <th>START_DATE*</th>\n",
       "      <th>END_DATE*</th>\n",
       "      <th>CATEGORY*</th>\n",
       "      <th>START*</th>\n",
       "      <th>STOP*</th>\n",
       "      <th>MILES*</th>\n",
       "      <th>PURPOSE*</th>\n",
       "    </tr>\n",
       "  </thead>\n",
       "  <tbody>\n",
       "    <tr>\n",
       "      <th>1155</th>\n",
       "      <td>Totals</td>\n",
       "      <td>NaN</td>\n",
       "      <td>NaN</td>\n",
       "      <td>NaN</td>\n",
       "      <td>NaN</td>\n",
       "      <td>12204.7</td>\n",
       "      <td>NaN</td>\n",
       "    </tr>\n",
       "    <tr>\n",
       "      <th>269</th>\n",
       "      <td>3/25/2016 16:52</td>\n",
       "      <td>3/25/2016 22:22</td>\n",
       "      <td>Business</td>\n",
       "      <td>Latta</td>\n",
       "      <td>Jacksonville</td>\n",
       "      <td>310.3</td>\n",
       "      <td>Customer Visit</td>\n",
       "    </tr>\n",
       "    <tr>\n",
       "      <th>270</th>\n",
       "      <td>3/25/2016 22:54</td>\n",
       "      <td>3/26/2016 1:39</td>\n",
       "      <td>Business</td>\n",
       "      <td>Jacksonville</td>\n",
       "      <td>Kissimmee</td>\n",
       "      <td>201.0</td>\n",
       "      <td>Meeting</td>\n",
       "    </tr>\n",
       "    <tr>\n",
       "      <th>881</th>\n",
       "      <td>10/30/2016 15:22</td>\n",
       "      <td>10/30/2016 18:23</td>\n",
       "      <td>Business</td>\n",
       "      <td>Asheville</td>\n",
       "      <td>Mebane</td>\n",
       "      <td>195.9</td>\n",
       "      <td>NaN</td>\n",
       "    </tr>\n",
       "    <tr>\n",
       "      <th>776</th>\n",
       "      <td>9/27/2016 21:01</td>\n",
       "      <td>9/28/2016 2:37</td>\n",
       "      <td>Business</td>\n",
       "      <td>Unknown Location</td>\n",
       "      <td>Unknown Location</td>\n",
       "      <td>195.6</td>\n",
       "      <td>NaN</td>\n",
       "    </tr>\n",
       "    <tr>\n",
       "      <th>...</th>\n",
       "      <td>...</td>\n",
       "      <td>...</td>\n",
       "      <td>...</td>\n",
       "      <td>...</td>\n",
       "      <td>...</td>\n",
       "      <td>...</td>\n",
       "      <td>...</td>\n",
       "    </tr>\n",
       "    <tr>\n",
       "      <th>1111</th>\n",
       "      <td>12/25/2016 0:10</td>\n",
       "      <td>12/25/2016 0:14</td>\n",
       "      <td>Business</td>\n",
       "      <td>Lahore</td>\n",
       "      <td>Lahore</td>\n",
       "      <td>0.6</td>\n",
       "      <td>Errand/Supplies</td>\n",
       "    </tr>\n",
       "    <tr>\n",
       "      <th>516</th>\n",
       "      <td>7/5/2016 16:48</td>\n",
       "      <td>7/5/2016 16:52</td>\n",
       "      <td>Business</td>\n",
       "      <td>Whitebridge</td>\n",
       "      <td>Whitebridge</td>\n",
       "      <td>0.6</td>\n",
       "      <td>Errand/Supplies</td>\n",
       "    </tr>\n",
       "    <tr>\n",
       "      <th>420</th>\n",
       "      <td>6/8/2016 17:16</td>\n",
       "      <td>6/8/2016 17:18</td>\n",
       "      <td>Business</td>\n",
       "      <td>Soho</td>\n",
       "      <td>Tribeca</td>\n",
       "      <td>0.5</td>\n",
       "      <td>Errand/Supplies</td>\n",
       "    </tr>\n",
       "    <tr>\n",
       "      <th>120</th>\n",
       "      <td>2/17/2016 16:38</td>\n",
       "      <td>2/17/2016 16:43</td>\n",
       "      <td>Business</td>\n",
       "      <td>Katunayaka</td>\n",
       "      <td>Katunayaka</td>\n",
       "      <td>0.5</td>\n",
       "      <td>Errand/Supplies</td>\n",
       "    </tr>\n",
       "    <tr>\n",
       "      <th>44</th>\n",
       "      <td>1/26/2016 17:27</td>\n",
       "      <td>1/26/2016 17:29</td>\n",
       "      <td>Business</td>\n",
       "      <td>Cary</td>\n",
       "      <td>Cary</td>\n",
       "      <td>0.5</td>\n",
       "      <td>Errand/Supplies</td>\n",
       "    </tr>\n",
       "  </tbody>\n",
       "</table>\n",
       "<p>1156 rows × 7 columns</p>\n",
       "</div>"
      ],
      "text/plain": [
       "           START_DATE*         END_DATE* CATEGORY*            START*  \\\n",
       "1155            Totals               NaN       NaN               NaN   \n",
       "269    3/25/2016 16:52   3/25/2016 22:22  Business             Latta   \n",
       "270    3/25/2016 22:54    3/26/2016 1:39  Business      Jacksonville   \n",
       "881   10/30/2016 15:22  10/30/2016 18:23  Business         Asheville   \n",
       "776    9/27/2016 21:01    9/28/2016 2:37  Business  Unknown Location   \n",
       "...                ...               ...       ...               ...   \n",
       "1111   12/25/2016 0:10   12/25/2016 0:14  Business            Lahore   \n",
       "516     7/5/2016 16:48    7/5/2016 16:52  Business       Whitebridge   \n",
       "420     6/8/2016 17:16    6/8/2016 17:18  Business              Soho   \n",
       "120    2/17/2016 16:38   2/17/2016 16:43  Business        Katunayaka   \n",
       "44     1/26/2016 17:27   1/26/2016 17:29  Business              Cary   \n",
       "\n",
       "                 STOP*   MILES*         PURPOSE*  \n",
       "1155               NaN  12204.7              NaN  \n",
       "269       Jacksonville    310.3   Customer Visit  \n",
       "270          Kissimmee    201.0          Meeting  \n",
       "881             Mebane    195.9              NaN  \n",
       "776   Unknown Location    195.6              NaN  \n",
       "...                ...      ...              ...  \n",
       "1111            Lahore      0.6  Errand/Supplies  \n",
       "516        Whitebridge      0.6  Errand/Supplies  \n",
       "420            Tribeca      0.5  Errand/Supplies  \n",
       "120         Katunayaka      0.5  Errand/Supplies  \n",
       "44                Cary      0.5  Errand/Supplies  \n",
       "\n",
       "[1156 rows x 7 columns]"
      ]
     },
     "execution_count": 14,
     "metadata": {},
     "output_type": "execute_result"
    }
   ],
   "source": [
    "trips = uber_data.sort_values(by='MILES*', ascending=False)\n",
    "trips"
   ]
  },
  {
   "cell_type": "code",
   "execution_count": null,
   "id": "c678ed8d-1e52-444e-93bd-dc5ec7a96083",
   "metadata": {},
   "outputs": [],
   "source": []
  }
 ],
 "metadata": {
  "kernelspec": {
   "display_name": "Python [conda env:base] *",
   "language": "python",
   "name": "conda-base-py"
  },
  "language_info": {
   "codemirror_mode": {
    "name": "ipython",
    "version": 3
   },
   "file_extension": ".py",
   "mimetype": "text/x-python",
   "name": "python",
   "nbconvert_exporter": "python",
   "pygments_lexer": "ipython3",
   "version": "3.13.5"
  }
 },
 "nbformat": 4,
 "nbformat_minor": 5
}
